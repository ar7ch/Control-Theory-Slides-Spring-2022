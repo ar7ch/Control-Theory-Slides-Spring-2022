{
  "cells": [
    {
      "cell_type": "markdown",
      "metadata": {
        "id": "view-in-github",
        "colab_type": "text"
      },
      "source": [
        "<a href=\"https://colab.research.google.com/github/ar7ch/Control-Theory-Slides-Spring-2022/blob/main/Assignment2.ipynb\" target=\"_parent\"><img src=\"https://colab.research.google.com/assets/colab-badge.svg\" alt=\"Open In Colab\"/></a>"
      ]
    },
    {
      "cell_type": "markdown",
      "metadata": {
        "id": "jkpb8xiEzdwR"
      },
      "source": [
        "# Task 1 (5 points)\n",
        "\n",
        "Given a system:\n",
        "\n",
        "<!-- A = \n",
        "    [0 0 1 0;\n",
        "     0 0 0 1;\n",
        "     n -2 -10/n -2;\n",
        "     -5 -n/10 0 -3]; -->\n",
        "\n",
        "$$ \n",
        "\\begin{cases}\n",
        "\\dot x = \n",
        "\\begin{bmatrix} \n",
        "0 & 0 & 1 & 0 \\\\\n",
        "0 & 0 & 0 & 1 \\\\\n",
        " n & -2 & -10/n & -2 \\\\\n",
        "-5 & -n/10 & 0 & -3\n",
        "\\end{bmatrix}\n",
        "x\n",
        "+ \n",
        "\\begin{bmatrix} \n",
        "0 \\\\\n",
        "0 \\\\\n",
        "-1\\\\\n",
        "1\n",
        "\\end{bmatrix}\n",
        "u \\\\\n",
        "y = \\begin{bmatrix} \n",
        "1 & 1 & 0 & 0\n",
        "\\end{bmatrix} x\n",
        "\\end{cases}\n",
        "$$\n",
        "\n",
        "where $n$ is your number in your group list (ask your TA to give you your number if you don't have one).\n",
        "\n",
        "\n",
        "1.   Find its transfer function representation ($y(s) / u(s) = W(s)$).\n",
        "\n",
        "\n",
        "\n",
        "\n",
        "\n"
      ]
    },
    {
      "cell_type": "markdown",
      "metadata": {
        "id": "_PikxTd2EDRc"
      },
      "source": [
        "We have system in the following form:\n",
        "$$\n",
        "\\begin{cases}\n",
        "    \\dot{x} = Ax + Bu \\\\\n",
        "    y = Cx \n",
        "\\end{cases}\n",
        "$$\n",
        "Apply Laplace transform:\n",
        "$$\n",
        "\\begin{cases}\n",
        "    sx = Ax + Bu \\\\\n",
        "    y = Cx + 0u \n",
        "\\end{cases}\n",
        "$$\n",
        "Express x:\n",
        "$$\n",
        "(sI - A)x = Bu \\\\ \n",
        "x = (sI - A)^{-1}Bu \\\\ \n",
        "$$\n",
        "Substitute to the second equation:\n",
        "$$\n",
        "y = C(sI - A)^{-1}Bu\n",
        "$$\n",
        "Since $y = W(s) \\cdot u$\n",
        "$$\n",
        "W(s) = C(sI - A)^{-1}B\n",
        "$$"
      ]
    },
    {
      "cell_type": "code",
      "execution_count": 17,
      "metadata": {
        "colab": {
          "base_uri": "https://localhost:8080/",
          "height": 757
        },
        "id": "1cx1Pbc0126R",
        "outputId": "51e17663-146f-4062-97cd-66b367ff9f08"
      },
      "outputs": [
        {
          "output_type": "stream",
          "name": "stdout",
          "text": [
            "Original system:\n"
          ]
        },
        {
          "output_type": "display_data",
          "data": {
            "text/plain": [
              "⎡x₁̇⎤   ⎡x₁⎤\n",
              "⎢  ⎥   ⎢  ⎥\n",
              "⎢x₂̇⎥   ⎢x₂⎥\n",
              "⎢  ⎥ = ⎢  ⎥\n",
              "⎢x₃̇⎥   ⎢x₃⎥\n",
              "⎢  ⎥   ⎢  ⎥\n",
              "⎣x₄̇⎦   ⎣x₄⎦"
            ],
            "text/latex": "$\\displaystyle \\left[\\begin{matrix}\\dot{x}_{1}\\\\\\dot{x}_{2}\\\\\\dot{x}_{3}\\\\\\dot{x}_{4}\\end{matrix}\\right] = \\left[\\begin{matrix}x_{1}\\\\x_{2}\\\\x_{3}\\\\x_{4}\\end{matrix}\\right]$"
          },
          "metadata": {}
        },
        {
          "output_type": "display_data",
          "data": {
            "text/plain": [
              "       ⎡            x₃            ⎤\n",
              "       ⎢                          ⎥\n",
              "⎡x₁̇⎤   ⎢            x₄            ⎥\n",
              "⎢  ⎥   ⎢                          ⎥\n",
              "⎢x₂̇⎥   ⎢                     10⋅x₃⎥\n",
              "⎢  ⎥ = ⎢n⋅x₁ - 2⋅x₂ - 2⋅x₄ - ─────⎥\n",
              "⎢x₃̇⎥   ⎢                       n  ⎥\n",
              "⎢  ⎥   ⎢                          ⎥\n",
              "⎣x₄̇⎦   ⎢     n⋅x₂                 ⎥\n",
              "       ⎢   - ──── - 5⋅x₁ - 3⋅x₄   ⎥\n",
              "       ⎣      10                  ⎦"
            ],
            "text/latex": "$\\displaystyle \\left[\\begin{matrix}\\dot{x}_{1}\\\\\\dot{x}_{2}\\\\\\dot{x}_{3}\\\\\\dot{x}_{4}\\end{matrix}\\right] = \\left[\\begin{matrix}x_{3}\\\\x_{4}\\\\n x_{1} - 2 x_{2} - 2 x_{4} - \\frac{10 x_{3}}{n}\\\\- \\frac{n x_{2}}{10} - 5 x_{1} - 3 x_{4}\\end{matrix}\\right]$"
          },
          "metadata": {}
        },
        {
          "output_type": "display_data",
          "data": {
            "text/plain": [
              "       ⎡              x₃              ⎤\n",
              "       ⎢                              ⎥\n",
              "⎡x₁̇⎤   ⎢              x₄              ⎥\n",
              "⎢  ⎥   ⎢                              ⎥\n",
              "⎢x₂̇⎥   ⎢                         10⋅x₃⎥\n",
              "⎢  ⎥ = ⎢n⋅x₁ - u - 2⋅x₂ - 2⋅x₄ - ─────⎥\n",
              "⎢x₃̇⎥   ⎢                           n  ⎥\n",
              "⎢  ⎥   ⎢                              ⎥\n",
              "⎣x₄̇⎦   ⎢     n⋅x₂                     ⎥\n",
              "       ⎢   - ──── + u - 5⋅x₁ - 3⋅x₄   ⎥\n",
              "       ⎣      10                      ⎦"
            ],
            "text/latex": "$\\displaystyle \\left[\\begin{matrix}\\dot{x}_{1}\\\\\\dot{x}_{2}\\\\\\dot{x}_{3}\\\\\\dot{x}_{4}\\end{matrix}\\right] = \\left[\\begin{matrix}x_{3}\\\\x_{4}\\\\n x_{1} - u - 2 x_{2} - 2 x_{4} - \\frac{10 x_{3}}{n}\\\\- \\frac{n x_{2}}{10} + u - 5 x_{1} - 3 x_{4}\\end{matrix}\\right]$"
          },
          "metadata": {}
        },
        {
          "output_type": "stream",
          "name": "stdout",
          "text": [
            "Substitute:\n"
          ]
        },
        {
          "output_type": "display_data",
          "data": {
            "text/plain": [
              "       ⎡              x₁̇              ⎤\n",
              "       ⎢                              ⎥\n",
              "⎡x₁̇⎤   ⎢              x₂̇              ⎥\n",
              "⎢  ⎥   ⎢                              ⎥\n",
              "⎢x₂̇⎥   ⎢                         10⋅x₁̇⎥\n",
              "⎢  ⎥ = ⎢n⋅x₁ - u - 2⋅x₂ - 2⋅x₂̇ - ─────⎥\n",
              "⎢x₁̈⎥   ⎢                           n  ⎥\n",
              "⎢  ⎥   ⎢                              ⎥\n",
              "⎣x₂̈⎦   ⎢     n⋅x₂                     ⎥\n",
              "       ⎢   - ──── + u - 5⋅x₁ - 3⋅x₂̇   ⎥\n",
              "       ⎣      10                      ⎦"
            ],
            "text/latex": "$\\displaystyle \\left[\\begin{matrix}\\dot{x}_{1}\\\\\\dot{x}_{2}\\\\\\ddot{x}_{1}\\\\\\ddot{x}_{2}\\end{matrix}\\right] = \\left[\\begin{matrix}\\dot{x}_{1}\\\\\\dot{x}_{2}\\\\n x_{1} - u - 2 x_{2} - 2 \\dot{x}_{2} - \\frac{10 \\dot{x}_{1}}{n}\\\\- \\frac{n x_{2}}{10} + u - 5 x_{1} - 3 \\dot{x}_{2}\\end{matrix}\\right]$"
          },
          "metadata": {}
        },
        {
          "output_type": "stream",
          "name": "stdout",
          "text": [
            "Thus, we obtain two equations:\n"
          ]
        },
        {
          "output_type": "display_data",
          "data": {
            "text/plain": [
              "                              10⋅x₁̇\n",
              "x₁̈ = n⋅x₁ - u - 2⋅x₂ - 2⋅x₂̇ - ─────\n",
              "                                n  "
            ],
            "image/png": "[encoded data removed]",
            "text/latex": "$\\displaystyle \\ddot{x}_{1} = n x_{1} - u - 2 x_{2} - 2 \\dot{x}_{2} - \\frac{10 \\dot{x}_{1}}{n}$"
          },
          "metadata": {}
        },
        {
          "output_type": "display_data",
          "data": {
            "text/plain": [
              "       n⋅x₂                  \n",
              "x₂̈ = - ──── + u - 5⋅x₁ - 3⋅x₂̇\n",
              "        10                   "
            ],
            "image/png": "[encoded data removed]",
            "text/latex": "$\\displaystyle \\ddot{x}_{2} = - \\frac{n x_{2}}{10} + u - 5 x_{1} - 3 \\dot{x}_{2}$"
          },
          "metadata": {}
        },
        {
          "output_type": "display_data",
          "data": {
            "text/plain": [
              "                              10⋅x₁̇\n",
              "n⋅x₁ - u - 2⋅x₂ - x₁̈ - 2⋅x₂̇ - ─────\n",
              "                                n  "
            ],
            "image/png": "[encoded data removed]",
            "text/latex": "$\\displaystyle n x_{1} - u - 2 x_{2} - \\ddot{x}_{1} - 2 \\dot{x}_{2} - \\frac{10 \\dot{x}_{1}}{n}$"
          },
          "metadata": {}
        },
        {
          "output_type": "stream",
          "name": "stdout",
          "text": [
            "Solve second equation for x1:\n"
          ]
        },
        {
          "output_type": "display_data",
          "data": {
            "text/plain": [
              "       n⋅x₂   u   3⋅x₂̇   x₂̈\n",
              "x₁ = - ──── + ─ - ──── - ──\n",
              "        50    5    5     5 "
            ],
            "image/png": "[encoded data removed]",
            "text/latex": "$\\displaystyle x_{1} = - \\frac{n x_{2}}{50} + \\frac{u}{5} - \\frac{3 \\dot{x}_{2}}{5} - \\frac{\\ddot{x}_{2}}{5}$"
          },
          "metadata": {}
        },
        {
          "output_type": "display_data",
          "data": {
            "text/plain": [
              "                              10⋅x₁̇\n",
              "n⋅x₁ - u - 2⋅x₂ - x₁̈ - 2⋅x₂̇ - ─────\n",
              "                                n  "
            ],
            "image/png": "[encoded data removed]",
            "text/latex": "$\\displaystyle n x_{1} - u - 2 x_{2} - \\ddot{x}_{1} - 2 \\dot{x}_{2} - \\frac{10 \\dot{x}_{1}}{n}$"
          },
          "metadata": {}
        },
        {
          "output_type": "stream",
          "name": "stdout",
          "text": [
            "Substitute x1 into first equation:\n",
            " \n"
          ]
        },
        {
          "output_type": "display_data",
          "data": {
            "text/plain": [
              " ⎛n⋅(n⋅(n⋅x₂ - 10⋅u + 30⋅x₂̇ + 10⋅x₂̈) - n⋅x₂̈ + 50⋅u + 100⋅x₂ + 100⋅x₂̇ - 30⋅\n",
              "-⎜────────────────────────────────────────────────────────────────────────────\n",
              " ⎝                                         50                                 \n",
              "──────────────────────────────────────────────────────────────────────────────\n",
              "                                                     n                        \n",
              "\n",
              "x₂⃛ - 10⋅x₂⃜)   n⋅x₂̇              ⎞ \n",
              "─────── - ──── - 6⋅x₂̈ - 2⋅x₂⃛⎟ \n",
              "           5                ⎠ \n",
              "──────────────────────────────\n",
              "                              "
            ],
            "image/png": "[encoded data removed]",
            "text/latex": "$\\displaystyle - \\frac{\\frac{n \\left(n \\left(n x_{2} - 10 u + 30 \\dot{x}_{2} + 10 \\ddot{x}_{2}\\right) - n \\ddot{x}_{2} + 50 u + 100 x_{2} + 100 \\dot{x}_{2} - 30 \\dddot{x}_{2} - 10 \\ddddot{x}_{2}\\right)}{50} - \\frac{n \\dot{x}_{2}}{5} - 6 \\ddot{x}_{2} - 2 \\dddot{x}_{2}}{n}$"
          },
          "metadata": {}
        },
        {
          "output_type": "display_data",
          "data": {
            "text/plain": [
              "           39⋅x₂̇   6⋅x₂̈   4⋅x₂⃛   x₂⃜\n",
              "u - 4⋅x₂ - ───── - ──── + ──── + ──\n",
              "             5      5      5     5 "
            ],
            "image/png": "[encoded data removed]",
            "text/latex": "$\\displaystyle u - 4 x_{2} - \\frac{39 \\dot{x}_{2}}{5} - \\frac{6 \\ddot{x}_{2}}{5} + \\frac{4 \\dddot{x}_{2}}{5} + \\frac{\\ddddot{x}_{2}}{5}$"
          },
          "metadata": {}
        },
        {
          "output_type": "display_data",
          "data": {
            "text/plain": [
              "x₂⃜ = -5⋅u + 20⋅x₂ + 39⋅x₂̇ + 6⋅x₂̈ - 4⋅x₂⃛"
            ],
            "image/png": "[encoded data removed]",
            "text/latex": "$\\displaystyle \\ddddot{x}_{2} = - 5 u + 20 x_{2} + 39 \\dot{x}_{2} + 6 \\ddot{x}_{2} - 4 \\dddot{x}_{2}$"
          },
          "metadata": {}
        },
        {
          "output_type": "stream",
          "name": "stdout",
          "text": [
            "We obtain the following ODE:\n",
            " \n"
          ]
        },
        {
          "output_type": "display_data",
          "data": {
            "text/plain": [
              "z⃜ = -5⋅u + 20⋅z + 39⋅ż + 6⋅z̈ - 4⋅z⃛"
            ],
            "image/png": "[encoded data removed]",
            "text/latex": "$\\displaystyle \\ddddot{z} = - 5 u + 20 z + 39 \\dot{z} + 6 \\ddot{z} - 4 \\dddot{z}$"
          },
          "metadata": {}
        },
        {
          "output_type": "execute_result",
          "data": {
            "text/plain": [
              "(-5⋅u + 20⋅x₂ + 39⋅x₂̇ + 6⋅x₂̈ - 4⋅x₂⃛ - x₂⃜)⋅δ(t)"
            ],
            "image/png": "[encoded data removed]",
            "text/latex": "$\\displaystyle \\left(- 5 u + 20 x_{2} + 39 \\dot{x}_{2} + 6 \\ddot{x}_{2} - 4 \\dddot{x}_{2} - \\ddddot{x}_{2}\\right) \\delta\\left(t\\right)$"
          },
          "metadata": {},
          "execution_count": 17
        }
      ],
      "source": [
        "import numpy as np\n",
        "from sympy import *\n",
        "from sympy.physics.mechanics import dynamicsymbols, init_vprinting, vpprint\n",
        "init_vprinting()\n",
        "n = symbols('n')\n",
        "########\n",
        "A = Matrix([[0,0,1,0],[0,0,0,1],[n,-2,-10/n,-2],[-5,-n/10,0,-3]])\n",
        "B = Matrix([0,0,-1,1])\n",
        "C = Matrix([1,1,0,0]).T\n",
        "n0 = 10\n",
        "########\n",
        "\n",
        "\n",
        "\n",
        "x1,x2,x3,x4= dynamicsymbols('x1,x2,x3,x4')\n",
        "u,t=symbols('u,t')\n",
        "\n",
        "\n",
        "dx1=diff(x1,t)\n",
        "dx2=diff(x2,t)\n",
        "dx3=diff(x3,t)\n",
        "dx4=diff(x4,t)\n",
        "dX = Matrix([dx1,dx2,dx3,dx4])\n",
        "X = Matrix([x1,x2,x3,x4])\n",
        "\n",
        "pprint(\"Original system:\")\n",
        "display(Eq(dX, X))\n",
        "display(Eq(dX, Mul(A,X)))\n",
        "rightSide = A*X + B*u\n",
        "leftSide = dX\n",
        "display(Eq(dX, rightSide))\n",
        "pprint(\"Substitute:\")\n",
        "rightSide = rightSide.subs(x3, dx1)\n",
        "rightSide = rightSide.subs(x4, dx2)\n",
        "leftSide = leftSide.subs(dx3, diff(dx1))\n",
        "leftSide = leftSide.subs(dx4, diff(dx2))\n",
        "display(Eq(leftSide, rightSide))\n",
        "pprint(\"Thus, we obtain two equations:\")\n",
        "display(Eq(leftSide[2], rightSide[2]))\n",
        "display(Eq(leftSide[3], rightSide[3]))\n",
        "eq1 = rightSide[2] - leftSide[2]\n",
        "eq2 = rightSide[3] - leftSide[3]\n",
        "\n",
        "display(eq1)\n",
        "\n",
        "pprint(\"Solve second equation for x1:\")\n",
        "eq2_solve_for_x1 = solve(eq2, x1)[0]\n",
        "display(Eq(x1, eq2_solve_for_x1))\n",
        "display(eq1)\n",
        "pprint(\"Substitute x1 into first equation:\")\n",
        "pprint(\" \")\n",
        "eq = simplify(eq1.subs(x1, eq2_solve_for_x1))\n",
        "display(eq)\n",
        "eq = eq.subs(n, n0)\n",
        "display(eq)\n",
        "d4x2 = diff(dx2, t, 3)\n",
        "eq_solve_for_d4x2 = solve(eq, d4x2)[0]\n",
        "expr = Eq(d4x2, eq_solve_for_d4x2)\n",
        "eq_solve_for_d4x2 -= d4x2\n",
        "display(expr)\n",
        "z, s, t = dynamicsymbols('z, s, t')\n",
        "pprint(\"We obtain the following ODE:\")\n",
        "pprint(\" \")\n",
        "display(expr.subs(x2, z))\n",
        "\n",
        "inverse_laplace_transform(eq_solve_for_d4x2, s, t)"
      ]
    },
    {
      "cell_type": "markdown",
      "metadata": {
        "id": "XG5PTttI2IqA"
      },
      "source": [
        "$$\\displaystyle \\ddddot{z} = - 5 u + 20 z + 39 \\dot{z} + 6 \\ddot{z} - 4 \\dddot{z}$$"
      ]
    },
    {
      "cell_type": "code",
      "execution_count": 18,
      "metadata": {
        "colab": {
          "base_uri": "https://localhost:8080/",
          "height": 70
        },
        "id": "NxJ9wEyo8Zch",
        "outputId": "03636a84-0896-42be-9de3-c660a6959e56"
      },
      "outputs": [
        {
          "output_type": "stream",
          "name": "stdout",
          "text": [
            "Transfer function:\n"
          ]
        },
        {
          "output_type": "display_data",
          "data": {
            "text/plain": [
              "y                               -64000000000.0⋅s - 128000000000.0             \n",
              "─ = ──────────────────────────────────────────────────────────────────────────\n",
              "u                  4                  3                  2                    \n",
              "    16000000000.0⋅s  + 64000000000.0⋅s  - 96000000000.0⋅s  - 624000000000.0⋅s \n",
              "\n",
              "                \n",
              "────────────────\n",
              "                \n",
              "- 320000000000.0"
            ],
            "image/png": "[encoded data removed]",
            "text/latex": "$\\displaystyle \\frac{y}{u} = \\frac{- 64000000000.0 s - 128000000000.0}{16000000000.0 s^{4} + 64000000000.0 s^{3} - 96000000000.0 s^{2} - 624000000000.0 s - 320000000000.0}$"
          },
          "metadata": {}
        }
      ],
      "source": [
        "import numpy as np\n",
        "from sympy import *\n",
        "#from sympy.physics.mechanics import *\n",
        "from IPython.display import display\n",
        "\n",
        "init_printing()\n",
        "\n",
        "n=10\n",
        "s, x, y, u, t = symbols('s, x, y, u, t')\n",
        "\n",
        "A = Matrix([[0,0,1,0],\n",
        "     [0,0,0,1],\n",
        "     [n,-2,-10/n,-2],\n",
        "     [-5,-n/10,0,-3]])\n",
        "B = Matrix([0, 0, -1, 1])\n",
        "C = Matrix([1, 1, 0, 0]).T\n",
        "\n",
        "I = eye(4);\n",
        "_X = (s*I - A).inv() @ B\n",
        "W = simplify(C @ _X)[0]\n",
        "\n",
        "u, x, y = symbols('u, x, y')\n",
        "pprint(\"Transfer function:\")\n",
        "display(Eq(y/u, W))"
      ]
    },
    {
      "cell_type": "markdown",
      "metadata": {
        "id": "hMZcgPGFIu4K"
      },
      "source": [
        "2.   Propose an ODE representation of the system.\n",
        "Let us represent the expression above as follows."
      ]
    },
    {
      "cell_type": "code",
      "execution_count": 19,
      "metadata": {
        "colab": {
          "base_uri": "https://localhost:8080/",
          "height": 52
        },
        "id": "YQBim7-e-UZP",
        "outputId": "f238e98d-7c03-4b68-b37c-9b23ae45982b"
      },
      "outputs": [
        {
          "output_type": "display_data",
          "data": {
            "text/plain": [
              "        3          2                           2.25⋅y      \n",
              "- 0.25⋅s ⋅y - 0.5⋅s ⋅y + 2.5⋅s⋅y + 4.75⋅y - ─────────── = u\n",
              "                                            0.5⋅s + 1.0    "
            ],
            "image/png": "[encoded data removed]",
            "text/latex": "$\\displaystyle - 0.25 s^{3} y - 0.5 s^{2} y + 2.5 s y + 4.75 y - \\frac{2.25 y}{0.5 s + 1.0} = u$"
          },
          "metadata": {}
        }
      ],
      "source": [
        "fr_pr = apart(1/W)\n",
        "display(Eq(expand(y*fr_pr), u))"
      ]
    },
    {
      "cell_type": "markdown",
      "metadata": {
        "id": "JqgBt0JC9nhl"
      },
      "source": [
        ""
      ]
    },
    {
      "cell_type": "code",
      "execution_count": 19,
      "metadata": {
        "id": "jPvacZStKFEI"
      },
      "outputs": [],
      "source": [
        ""
      ]
    },
    {
      "cell_type": "markdown",
      "metadata": {
        "id": "nS_yhyaIDtq5"
      },
      "source": [
        "\n",
        "\n",
        "3.   Propose a controller (control law $u = -Kx$) that makes the system stable. Do it via pole placement and as an LQR. For LQR show the cost function you chose.\n"
      ]
    },
    {
      "cell_type": "code",
      "source": [
        "from scipy.signal import place_poles\n",
        "\n",
        "k1,k2,k3,k4 = symbols('k1,k2,k3,k4', real=true)\n",
        "K = np.array([[k1,k2,k3,k4]])\n",
        "u = -K @ X\n",
        "A_c = A - B@K\n",
        "l = symbols('x')\n",
        "pole_equation = simplify((A_c - l*eye(4)).det())\n",
        "poles = [-1, -1.5, -0.4, -1.2]\n",
        "\n",
        "display(collect(pole_equation, l))\n",
        "pp = place_poles(np.array(A, dtype=float),np.array(B, dtype=float),np.array(poles))    \n",
        "K_s = pp.gain_matrix[0]\n",
        "K = K[0]\n",
        "for i in range(4):\n",
        "    A_c = A_c.subs(K[i], K_s[i])\n",
        "display(A_c)\n",
        "ei,v = list(\n",
        "            np.linalg.eig( \n",
        "                            np.array(A_c, dtype=float)\n",
        "                         ))\n",
        "for e in ei:\n",
        "    display(e.real)"
      ],
      "metadata": {
        "colab": {
          "base_uri": "https://localhost:8080/",
          "height": 201
        },
        "id": "YbEmxTT9ZC92",
        "outputId": "c5776e74-6aea-401c-e11c-9c3ec190de95"
      },
      "execution_count": 77,
      "outputs": [
        {
          "output_type": "display_data",
          "data": {
            "text/plain": [
              "                  4    3                     2                                \n",
              "-3.0⋅k₁ - 5⋅k₂ + x  + x ⋅(-k₃ + k₄ + 4.0) + x ⋅(-k₁ + k₂ - 5⋅k₃ + 1.0⋅k₄ - 6.0\n",
              "\n",
              "                                                    \n",
              ") + x⋅(-5⋅k₁ + 1.0⋅k₂ - 3.0⋅k₃ - 5⋅k₄ - 39.0) - 20.0"
            ],
            "image/png": "[encoded data removed]",
            "text/latex": "$\\displaystyle - 3.0 k_{1} - 5 k_{2} + x^{4} + x^{3} \\left(- k_{3} + k_{4} + 4.0\\right) + x^{2} \\left(- k_{1} + k_{2} - 5 k_{3} + 1.0 k_{4} - 6.0\\right) + x \\left(- 5 k_{1} + 1.0 k_{2} - 3.0 k_{3} - 5 k_{4} - 39.0\\right) - 20.0$"
          },
          "metadata": {}
        },
        {
          "output_type": "display_data",
          "data": {
            "text/plain": [
              "⎡       0                  0                   1                  0        ⎤\n",
              "⎢                                                                          ⎥\n",
              "⎢       0                  0                   0                  1        ⎥\n",
              "⎢                                                                          ⎥\n",
              "⎢3.66833333333327  -2.34499999999997   -2.47333333333333  -3.37333333333329⎥\n",
              "⎢                                                                          ⎥\n",
              "⎣1.33166666666673  -0.655000000000032  1.47333333333333   -1.62666666666671⎦"
            ],
            "text/latex": "$\\displaystyle \\left[\\begin{matrix}0 & 0 & 1 & 0\\\\0 & 0 & 0 & 1\\\\3.66833333333327 & -2.34499999999997 & -2.47333333333333 & -3.37333333333329\\\\1.33166666666673 & -0.655000000000032 & 1.47333333333333 & -1.62666666666671\\end{matrix}\\right]$"
          },
          "metadata": {}
        },
        {
          "output_type": "display_data",
          "data": {
            "text/plain": [
              "-0.40000000000000147"
            ],
            "image/png": "[encoded data removed]",
            "text/latex": "$\\displaystyle -0.400000000000001$"
          },
          "metadata": {}
        },
        {
          "output_type": "display_data",
          "data": {
            "text/plain": [
              "-1.5000000000000293"
            ],
            "image/png": "[encoded data removed]",
            "text/latex": "$\\displaystyle -1.50000000000003$"
          },
          "metadata": {}
        },
        {
          "output_type": "display_data",
          "data": {
            "text/plain": [
              "-1.000000000000095"
            ],
            "image/png": "[encoded data removed]",
            "text/latex": "$\\displaystyle -1.0000000000001$"
          },
          "metadata": {}
        },
        {
          "output_type": "display_data",
          "data": {
            "text/plain": [
              "-1.1999999999999185"
            ],
            "image/png": "[encoded data removed]",
            "text/latex": "$\\displaystyle -1.19999999999992$"
          },
          "metadata": {}
        }
      ]
    },
    {
      "cell_type": "markdown",
      "source": [
        "4.   Show stability of the closed-loop system via eigenvalue analysis."
      ],
      "metadata": {
        "id": "R__cexXiPI9P"
      }
    },
    {
      "cell_type": "code",
      "source": [
        "ei, v = np.linalg.eig(np.array(A, dtype=float))\n",
        "pprint(\"Eigenvalues of matrix A:\")\n",
        "stability = [\"asymptotically stable\", \"marginally stable\", \"unstable\"]\n",
        "stab_status = 0;\n",
        "eps = 1e-15\n",
        "for e in ei:\n",
        "    er = e.real\n",
        "    msg = \"\"\n",
        "    if -eps < er - 0 < eps:\n",
        "        if(stab_status != 2):\n",
        "            stab_status = 1\n",
        "    elif er > 0:\n",
        "        stab_status = 2\n",
        "        msg = \"       <- positive eigenvalue: the system is unstable\"\n",
        "    pprint(f\"{er}{msg}\")\n",
        "pprint(f\"The system is {stability[stab_status]}, need to apply stabilizing control\")"
      ],
      "metadata": {
        "colab": {
          "base_uri": "https://localhost:8080/"
        },
        "id": "65j1EWaJPV9Y",
        "outputId": "0e21ab0d-c2ed-47d5-ee37-8a12343e2220"
      },
      "execution_count": 89,
      "outputs": [
        {
          "output_type": "stream",
          "name": "stdout",
          "text": [
            "Eigenvalues of matrix A:\n",
            "3.01406620809477       <- positive eigenvalue: the system is unstable\n",
            "-3.215891133863984\n",
            "-3.215891133863984\n",
            "-0.5822839403667993\n",
            "The system is unstable, need to apply stabilizing control\n"
          ]
        }
      ]
    },
    {
      "cell_type": "markdown",
      "source": [
        "5.   Find stability margins by analysing Bode diagram for the system."
      ],
      "metadata": {
        "id": "U3IwfUodWmk4"
      }
    },
    {
      "cell_type": "code",
      "source": [
        "from scipy import odeint\n",
        "\n",
        "\n",
        "def PeriodicControlSignal(t, w):\n",
        "    \"\"\"\n",
        "        Input control function u(t) = sin(wt)\n",
        "        :return: value of u(t) at given t\n",
        "    \"\"\"\n",
        "    sig = np.sin(w*t)\n",
        "    return np.array([sig])\n",
        "\n",
        "def StateSpace(x, t, A, B, w):\n",
        "    \"\"\"\n",
        "        State-space representation of the system.\n",
        "        :return: parameters of the system described by state and input matrices A and B, assuming that input signal is periodic with freq w, \n",
        "                 with given state x at given time w\n",
        "    \"\"\"\n",
        "    u = PeriodicControlSignal(t, w)\n",
        "    return A@x + B@u\n",
        "\n",
        "def ControlSystem(A, B, C, D, w):\n",
        "    \"\"\"\n",
        "\n",
        "    \"\"\"\n",
        "    x0 = np.zeros(4) # initial conditions for the system\n",
        "\n",
        "    t0 = 0; tf = 30\n",
        "    t = np.linspace(t0, tf, 1000)\n",
        "\n",
        "    solution = odeint()\n"
      ],
      "metadata": {
        "id": "vtm5vkLvr8pD"
      },
      "execution_count": null,
      "outputs": []
    },
    {
      "cell_type": "markdown",
      "metadata": {
        "id": "1lHkNAal5AB9"
      },
      "source": [
        "1.   Find stability margins by analysing Bode diagram for the system.\n",
        "1.   Simulate closed-loop system.\n",
        "1.   Modify the control law in such a way that the state of the system converges to $x_0 = \\begin{bmatrix} \n",
        "(2+0.1n)/(n-5) \\\\\n",
        "1 \\\\\n",
        "0 \\\\\n",
        "0 \n",
        "\\end{bmatrix}$. Show resulting control law. Simulate the system and demostrate convergence via graphs of state dynamics and error dynamics.\n",
        "1. Discretize the system with $\\Delta t = 0.01$. Write equations of the discrete dinamics.\n",
        "1. Propose a control law for the discrete system via pole-placement and LQR (show cost function for the LQR).\n",
        "1. Show eigenvalue analisys of the slosed-loop dynamics of the discrete system (with the proposed discrete control law. Demonstrate stability.\n",
        "1. Simulate the discrete system. Show graphs.\n",
        "1. Find Lyapunov function that proves the system's stability (one for continious time and one discrete time versions).\n",
        "\n"
      ]
    },
    {
      "cell_type": "markdown",
      "metadata": {
        "id": "cAA7ncyRiR_M"
      },
      "source": [
        "# Task 2 (4 points)\n",
        "\n",
        "You are given a system:\n",
        "\n",
        "$$ \n",
        "\\begin{cases}\n",
        "\\dot x = \n",
        "\\begin{bmatrix} \n",
        "1 & 5 & -2 \\\\\n",
        "2 & 1 & -3 \\\\\n",
        "-1 & -2 & 7\n",
        "\\end{bmatrix}\n",
        "x\n",
        "+ \n",
        "\\begin{bmatrix} \n",
        "2 \\\\\n",
        "1 \\\\\n",
        "0\n",
        "\\end{bmatrix}\n",
        "u \\\\\n",
        "u = -\\begin{bmatrix} \n",
        "7k & 6k & -50k\n",
        "\\end{bmatrix} x\n",
        "\\end{cases}\n",
        "$$\n",
        "\n",
        "1. How do the eigenvalues of the closed-loop system depend on k? Plot the evolution of the eigenvalues on a complex plane, as $k$ changes from 0 to 5. \n",
        "1. Chose a value of $k$ that allows the system to be stable. USe bode plot to find stability margins of teh closed-loop system.\n",
        "1. Discretize the closed-loop system with $\\Delta t = 0.05$ and simulate both the continues-time and discrete-time versions, show if there is a difference between simulation results.\n",
        "1. What is the smallest value of $k$ that makes the eigenvalues purely real?"
      ]
    },
    {
      "cell_type": "markdown",
      "metadata": {
        "id": "zuVDblL-oMJN"
      },
      "source": [
        "# Task 3 (3 points)\n",
        "\n",
        "You are given a system:\n",
        "\n",
        "$$ \n",
        "\\begin{cases}\n",
        "\\dot x = \n",
        "\\begin{bmatrix} \n",
        "0 & 1 \\\\\n",
        "1 & 10\n",
        "\\end{bmatrix}\n",
        "x\n",
        "+ \n",
        "\\begin{bmatrix} \n",
        "0 \\\\\n",
        "1\n",
        "\\end{bmatrix}\n",
        "u \\\\\n",
        "u = \n",
        "-\\begin{bmatrix} \n",
        "5k & k\n",
        "\\end{bmatrix} x\n",
        "\\end{cases}\n",
        "$$\n",
        "\n",
        "You can chose any positive value of $k$ to design your controller. What is least-norm control gain (control gain is the matrix $\\begin{bmatrix} \n",
        "5k & k\n",
        "\\end{bmatrix}$) that makes the system not only be stable, but also exhibit no oscillations in the transient process?"
      ]
    }
  ],
  "metadata": {
    "colab": {
      "collapsed_sections": [
        "cAA7ncyRiR_M",
        "zuVDblL-oMJN"
      ],
      "name": "Assignment2.ipynb",
      "provenance": [],
      "include_colab_link": true
    },
    "kernelspec": {
      "display_name": "Python 3",
      "name": "python3"
    },
    "language_info": {
      "name": "python"
    }
  },
  "nbformat": 4,
  "nbformat_minor": 0
}